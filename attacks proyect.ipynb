{
 "cells": [
  {
   "cell_type": "markdown",
   "metadata": {
    "colab_type": "text",
    "id": "view-in-github"
   },
   "source": [
    "<a href=\"https://colab.research.google.com/github/MARTAMM77/1.1-lab_bash/blob/main/soluciones.ipynb\" target=\"_parent\"><img src=\"https://colab.research.google.com/assets/colab-badge.svg\" alt=\"Open In Colab\"/></a>"
   ]
  },
  {
   "cell_type": "code",
   "execution_count": 1,
   "metadata": {
    "id": "0rAoUm1uRtlF"
   },
   "outputs": [],
   "source": [
    "\n",
    "import numpy as np"
   ]
  },
  {
   "cell_type": "code",
   "execution_count": 2,
   "metadata": {
    "scrolled": false
   },
   "outputs": [
    {
     "name": "stdout",
     "output_type": "stream",
     "text": [
      "(25723, 24)\n"
     ]
    }
   ],
   "source": [
    "import pandas as pd\n",
    "\n",
    "# Leer el archivo CSV y almacenar los datos en el DataFrame \"attacks\"\n",
    "attacks = pd.read_csv(r'C:\\\\Users\\\\Usuario\\\\Desktop\\\\Ironhack\\\\w2-project_pandas\\\\attacks.csv', encoding='latin-1')\n",
    "\n",
    "# Obtener la forma del DataFrame \"attacks\"\n",
    "print(attacks.shape)"
   ]
  },
  {
   "cell_type": "code",
   "execution_count": 3,
   "metadata": {},
   "outputs": [],
   "source": [
    "#attacks.head()"
   ]
  },
  {
   "cell_type": "code",
   "execution_count": 4,
   "metadata": {
    "scrolled": true
   },
   "outputs": [
    {
     "name": "stdout",
     "output_type": "stream",
     "text": [
      "float64\n"
     ]
    }
   ],
   "source": [
    "print(attacks['Year'].dtype)"
   ]
  },
  {
   "cell_type": "code",
   "execution_count": 5,
   "metadata": {},
   "outputs": [],
   "source": [
    "unique_values = attacks['Year'].unique() #después de imprimir no hay datos en el año 2020, 2021 y 2022\n"
   ]
  },
  {
   "cell_type": "code",
   "execution_count": 6,
   "metadata": {},
   "outputs": [
    {
     "data": {
      "text/plain": [
       "2609"
      ]
     },
     "metadata": {},
     "output_type": "display_data"
    }
   ],
   "source": [
    "Years = list(range(1991, 2024))\n",
    "total_rows = 0\n",
    "# Calcular el número total de filas para cada año\n",
    "for Year in Years:\n",
    "    filtered_data = attacks[attacks['Year'] == Year]\n",
    "    num_rows = len(filtered_data)\n",
    "    total_rows += num_rows\n",
    "\n",
    "# Imprimir el número total de filas\n",
    "display(total_rows)\n",
    "\n",
    "    "
   ]
  },
  {
   "cell_type": "code",
   "execution_count": 7,
   "metadata": {
    "scrolled": true
   },
   "outputs": [],
   "source": [
    "start_Year = 1991\n",
    "end_Year = 2023\n",
    "\n",
    "condition = (attacks['Year'] >= start_Year) & (attacks['Year'] <= end_Year)\n",
    "filtered_data = attacks.loc[condition]\n",
    "\n",
    "# Quitar el resto de filas del DataFrame\n",
    "attacks = attacks.drop(attacks.index.difference(filtered_data.index))\n",
    "\n",
    "# Imprimir el DataFrame resultante con las filas deseadas\n",
    "#display(attacks)"
   ]
  },
  {
   "cell_type": "code",
   "execution_count": 8,
   "metadata": {},
   "outputs": [
    {
     "data": {
      "text/plain": [
       "(2609, 24)"
      ]
     },
     "execution_count": 8,
     "metadata": {},
     "output_type": "execute_result"
    }
   ],
   "source": [
    "attacks.shape\n"
   ]
  },
  {
   "cell_type": "code",
   "execution_count": 9,
   "metadata": {
    "scrolled": false
   },
   "outputs": [],
   "source": [
    "# Filtrar las filas donde la columna \"Species\" contiene la palabra \"shark\" y asignar NaN al resto\n",
    "attacks.loc[attacks['Species '].str.contains('shark', na=False), 'Species '] = 'shark'\n",
    "attacks.loc[~attacks['Species '].str.contains('shark', na=False), 'Species '] = ' '\n",
    "\n",
    "# Imprimir el DataFrame completo\n",
    "#display(attacks)"
   ]
  },
  {
   "cell_type": "code",
   "execution_count": 10,
   "metadata": {
    "scrolled": true
   },
   "outputs": [],
   "source": [
    "#print(attacks.columns)"
   ]
  },
  {
   "cell_type": "code",
   "execution_count": 11,
   "metadata": {},
   "outputs": [],
   "source": [
    "attacks['Case Number'] = attacks['Case Number'].astype(str)\n",
    "#print(attacks['Case Number'].dtype)\n",
    "#el tipo de datos 'object' que se muestra después de ejecutar attacks['Case Number'].astype(str) es equivalente a str en Pandas. 'object' se utiliza para representar una columna que contiene cadenas de caracteres (string) en un DataFrame de Pandas."
   ]
  },
  {
   "cell_type": "code",
   "execution_count": 12,
   "metadata": {},
   "outputs": [],
   "source": [
    "# Índices de las filas que se desean eliminar\n",
    "#index = [495, 494, 107, 190, 276, 494, 495, 1791]\n",
    "\n",
    "# Eliminar las filas utilizando el método .drop()\n",
    "#attacks = attacks.drop(index)"
   ]
  },
  {
   "cell_type": "code",
   "execution_count": 13,
   "metadata": {},
   "outputs": [],
   "source": [
    "#print(attacks.head())"
   ]
  },
  {
   "cell_type": "code",
   "execution_count": 14,
   "metadata": {
    "scrolled": true
   },
   "outputs": [],
   "source": [
    "import pandas as pd\n",
    "attacks = pd.read_csv(r'C:\\\\Users\\\\Usuario\\\\Desktop\\\\Ironhack\\\\w2-project_pandas\\\\attacks.csv', encoding='latin-1')\n",
    "import re\n",
    "\n",
    "\n",
    "# Definimos la función\n",
    "def revisar_fechas (valor):\n",
    "   fechas_encontradas=[]\n",
    "   expresion_regular = r'\\b(19[0-9]{2}|20[0-9]{2})\\.(0[1-9]|1[0-2])\\.(0[0-9]|[1-2]\\d|3[0-1])\\b'\n",
    "   fechas_encontradas = re.findall(expresion_regular, valor)\n",
    "   if fechas_encontradas!=[]:\n",
    "      ano=fechas_encontradas[0][0]\n",
    "      mes=fechas_encontradas[0][1]\n",
    "      dia=fechas_encontradas[0][2]\n",
    "      if int(dia)==0:\n",
    "       dia='01'\n",
    "      if len(mes)==1:\n",
    "        mes='0'+ mes\n",
    "      if len (dia)==1:\n",
    "        dia='0'+ dia\n",
    "      return ano + '.' + mes + '.' + dia\n",
    "   else:\n",
    "      return ''\n",
    "attacks['Case Number'] = attacks['Case Number'].astype(str).apply(revisar_fechas)\n",
    "\n",
    "attacks['Case Number'] = attacks['Case Number'].apply(revisar_fechas)\n",
    "\n",
    "#display(attacks)"
   ]
  },
  {
   "cell_type": "code",
   "execution_count": 15,
   "metadata": {},
   "outputs": [],
   "source": [
    "attacks = attacks.sort_values('Case Number', ascending=False)\n",
    "#display(attacks['Case Number'])"
   ]
  },
  {
   "cell_type": "code",
   "execution_count": 16,
   "metadata": {},
   "outputs": [],
   "source": [
    "pd.set_option('display.max_columns', None)\n",
    "pd.set_option('display.width', None)\n",
    "pd.set_option('display.max_colwidth', None)\n",
    "\n",
    "# Imprime el DataFrame attacks con los datos alineados a la izquierda\n",
    "#display(attacks)"
   ]
  },
  {
   "cell_type": "code",
   "execution_count": 17,
   "metadata": {
    "scrolled": true
   },
   "outputs": [],
   "source": [
    "import math\n",
    "def eliminar_decimales(numero):\n",
    "    if math.isnan(numero):\n",
    "        return ''\n",
    "    else:\n",
    "        return int(numero)\n",
    "\n",
    "# Aplica la función a la columna 'years'\n",
    "attacks['Year'] = attacks['Year'].apply(eliminar_decimales)\n",
    "#display (attacks['Year'])\n"
   ]
  },
  {
   "cell_type": "code",
   "execution_count": 18,
   "metadata": {
    "scrolled": false
   },
   "outputs": [],
   "source": [
    "pd.set_option('display.max_rows', None)\n",
    "\n",
    "# Imprime el DataFrame attacks completo\n",
    "#display(attacks)"
   ]
  },
  {
   "cell_type": "code",
   "execution_count": 19,
   "metadata": {},
   "outputs": [],
   "source": [
    "attacks[\"Date\"] = None\n",
    "#display(attacks)"
   ]
  },
  {
   "cell_type": "code",
   "execution_count": 20,
   "metadata": {
    "scrolled": true
   },
   "outputs": [],
   "source": [
    "attacks['Date'] = pd.to_datetime(attacks['Case Number'], format='%Y.%m.%d').dt.strftime('%d-%b-%Y')\n",
    "\n",
    "# Imprime el DataFrame para verificar los cambios\n",
    "#display(attacks)"
   ]
  },
  {
   "cell_type": "code",
   "execution_count": 21,
   "metadata": {},
   "outputs": [],
   "source": [
    "valores_unicos = attacks['Country'].unique()\n",
    "\n",
    "#display(valores_unicos)"
   ]
  },
  {
   "cell_type": "code",
   "execution_count": 22,
   "metadata": {},
   "outputs": [],
   "source": [
    "attacks['Country'].fillna('', inplace=True)\n",
    "valores_unicos = attacks['Country'].unique()\n",
    "\n",
    "# Imprime el DataFrame para verificar los cambios\n",
    "#display(valores_unicos)\n"
   ]
  },
  {
   "cell_type": "code",
   "execution_count": 23,
   "metadata": {},
   "outputs": [],
   "source": [
    "attacks['Country'] = attacks['Country'].str.upper()\n",
    "\n",
    "#display(attacks['Country'])"
   ]
  },
  {
   "cell_type": "code",
   "execution_count": 24,
   "metadata": {},
   "outputs": [],
   "source": [
    "#display(attacks['Species '])"
   ]
  },
  {
   "cell_type": "code",
   "execution_count": 25,
   "metadata": {},
   "outputs": [
    {
     "data": {
      "text/plain": [
       "(25723, 24)"
      ]
     },
     "execution_count": 25,
     "metadata": {},
     "output_type": "execute_result"
    }
   ],
   "source": [
    "attacks.shape"
   ]
  },
  {
   "cell_type": "code",
   "execution_count": 26,
   "metadata": {
    "scrolled": true
   },
   "outputs": [],
   "source": [
    "import math\n",
    "\n",
    "def eliminar_decimales(numero):\n",
    "    if isinstance(numero, (int, float)):\n",
    "        if math.isnan(numero):\n",
    "            return ''\n",
    "        else:\n",
    "            return int(numero)\n",
    "    elif isinstance(numero, str):\n",
    "        return ''\n",
    "\n",
    "# Aplica la función a la columna 'original order'\n",
    "attacks['original order'] = attacks['original order'].apply(eliminar_decimales)\n",
    "\n",
    "\n",
    "\n",
    "\n",
    "\n"
   ]
  },
  {
   "cell_type": "code",
   "execution_count": 27,
   "metadata": {},
   "outputs": [],
   "source": [
    "attacks['Type'] = attacks['Type'].replace('Invalid', '')\n",
    "valores_unicos = attacks['Type'].unique()\n",
    "\n",
    "#display(valores_unicos)"
   ]
  },
  {
   "cell_type": "code",
   "execution_count": 28,
   "metadata": {},
   "outputs": [],
   "source": [
    "import numpy as np\n",
    "\n",
    "# Define una lista de valores que deseas reemplazar por celdas en blanco\n",
    "valores_a_reemplazar = ['Questionable', 'NaN', 'Boat', 'nan', 'Boatomg']\n",
    "\n",
    "# Reemplaza los valores por celdas en blanco en la columna 'Type'\n",
    "attacks['Type'] = attacks['Type'].apply(lambda x: '' if x in valores_a_reemplazar or pd.isna(x) else x)\n",
    "\n",
    "#print(attacks['Type'])\n",
    "#display(valores_unicos)\n"
   ]
  },
  {
   "cell_type": "code",
   "execution_count": 29,
   "metadata": {},
   "outputs": [],
   "source": [
    "attacks.to_csv('attacksfinal.csv', index=False)"
   ]
  },
  {
   "cell_type": "code",
   "execution_count": 30,
   "metadata": {},
   "outputs": [],
   "source": [
    "#dejo en blanco las celdas que no tengan numero de 2digitos o 1 digito\n",
    "attacks['Age'] = attacks['Age'].apply(lambda x: '' if isinstance(x, str) and not x.isdigit() or (isinstance(x, int) or isinstance(x, float)) and not (10 <= x <= 99) else x)\n",
    "\n",
    "#display(attacks['Age'])"
   ]
  },
  {
   "cell_type": "code",
   "execution_count": 31,
   "metadata": {},
   "outputs": [],
   "source": [
    "\n",
    "# Reemplaza los valores NaN, nan, Nan, NAN por espacio en blanco\n",
    "attacks = attacks.replace([np.nan, 'nan', 'Nan', 'NAN'], '')\n",
    "\n",
    "# Imprime el DataFrame para verificar los cambios\n",
    "#print(attacks)"
   ]
  },
  {
   "cell_type": "code",
   "execution_count": 32,
   "metadata": {},
   "outputs": [],
   "source": [
    "#attacks.to_csv('attacksfinal.csv', index=False)"
   ]
  },
  {
   "cell_type": "code",
   "execution_count": 33,
   "metadata": {},
   "outputs": [
    {
     "name": "stdout",
     "output_type": "stream",
     "text": [
      "(25723, 24)\n"
     ]
    }
   ],
   "source": [
    "print(attacks.shape)"
   ]
  },
  {
   "cell_type": "code",
   "execution_count": 34,
   "metadata": {},
   "outputs": [],
   "source": [
    "def revisar_fechas (valor):\n",
    "   fechas_encontradas=[]\n",
    "   expresion_regular = r'\\b(19[0-9]{2}|20[0-9]{2})\\.(0[1-9]|1[0-2])\\.(0[0-9]|[1-2]\\d|3[0-1])\\b'\n",
    "   fechas_encontradas = re.findall(expresion_regular, valor)\n",
    "   if fechas_encontradas!=[]:\n",
    "      ano=fechas_encontradas[0][0]\n",
    "      mes=fechas_encontradas[0][1]\n",
    "      dia=fechas_encontradas[0][2]\n",
    "      if int(dia)==0:\n",
    "       dia='01'\n",
    "      if len(mes)==1:\n",
    "        mes='0'+ mes\n",
    "      if len (dia)==1:\n",
    "        dia='0'+ dia\n",
    "      return ano + '.' + mes + '.' + dia\n",
    "   else:\n",
    "      return ''\n",
    "attacks['Case Number.1'] = attacks['Case Number.1'].astype(str).apply(revisar_fechas)\n",
    "\n",
    "attacks['Case Number.1'] = attacks['Case Number.1'].apply(revisar_fechas)\n",
    "\n",
    "#display(attacks['Case Number.1'])"
   ]
  },
  {
   "cell_type": "code",
   "execution_count": 35,
   "metadata": {},
   "outputs": [],
   "source": [
    "def revisar_fechas (valor):\n",
    "   fechas_encontradas=[]\n",
    "   expresion_regular = r'\\b(19[0-9]{2}|20[0-9]{2})\\.(0[1-9]|1[0-2])\\.(0[0-9]|[1-2]\\d|3[0-1])\\b'\n",
    "   fechas_encontradas = re.findall(expresion_regular, valor)\n",
    "   if fechas_encontradas!=[]:\n",
    "      ano=fechas_encontradas[0][0]\n",
    "      mes=fechas_encontradas[0][1]\n",
    "      dia=fechas_encontradas[0][2]\n",
    "      if int(dia)==0:\n",
    "       dia='01'\n",
    "      if len(mes)==1:\n",
    "        mes='0'+ mes\n",
    "      if len (dia)==1:\n",
    "        dia='0'+ dia\n",
    "      return ano + '.' + mes + '.' + dia\n",
    "   else:\n",
    "      return ''\n",
    "attacks['Case Number.2'] = attacks['Case Number.2'].astype(str).apply(revisar_fechas)\n",
    "\n",
    "attacks['Case Number.2'] = attacks['Case Number.2'].apply(revisar_fechas)\n",
    "\n",
    "#display(attacks['Case Number.2'])"
   ]
  },
  {
   "cell_type": "code",
   "execution_count": 36,
   "metadata": {},
   "outputs": [],
   "source": [
    "#Dejo en blanco las celdas que contienen números (no tienen sentido)\n",
    "patron_numeros = re.compile(r'\\d+')\n",
    "\n",
    "# Aplica la expresión regular en la columna 'Area' y crea una máscara booleana\n",
    "mascara_numeros = attacks['Area'].str.contains(patron_numeros)\n",
    "\n",
    "# Crea una máscara booleana para las condiciones 'miles' y 'km'\n",
    "mascara_palabras = (attacks['Area'].str.contains('miles') | attacks['Area'].str.contains('km'))\n",
    "\n",
    "# Aplica la máscara booleana para dejar en blanco las celdas de 'Area' que cumplen las condiciones\n",
    "attacks.loc[mascara_numeros & ~mascara_palabras, 'Area'] = ''\n",
    "\n",
    "unique_values = attacks['Area'].unique()   \n",
    "#display (unique_values) \n"
   ]
  },
  {
   "cell_type": "code",
   "execution_count": 37,
   "metadata": {},
   "outputs": [],
   "source": [
    "valores_reemplazar = ['d\\x92Étang-Salé', 'Bandar Ma\\x92shur sea inlet']\n",
    "\n",
    "# Reemplaza los valores con una celda en blanco\n",
    "attacks['Area'] = attacks['Area'].replace(valores_reemplazar, '')\n",
    "unique_values = attacks['Area'].unique()   \n",
    "#display (unique_values) \n"
   ]
  },
  {
   "cell_type": "code",
   "execution_count": 38,
   "metadata": {},
   "outputs": [
    {
     "data": {
      "image/png": "[encoded data removed]",
      "text/plain": [
       "<Figure size 640x480 with 1 Axes>"
      ]
     },
     "metadata": {},
     "output_type": "display_data"
    }
   ],
   "source": [
    "import pandas as pd\n",
    "import matplotlib.pyplot as plt\n",
    "\n",
    "attacks_2018 = attacks[attacks['Year'] == 2018]  # Filtrar ataques de tiburones en el año 2018\n",
    "\n",
    "top_countries = attacks_2018['Country'].value_counts().head(5)  # Obtener los tres primeros países con más ataques en 2018\n",
    "\n",
    "plt.bar(top_countries.index, top_countries.values)\n",
    "plt.xlabel('Países')\n",
    "plt.ylabel('Número de ataques')\n",
    "plt.title('Top 5 países con más ataques de tiburones en 2018')\n",
    "plt.show()\n"
   ]
  },
  {
   "cell_type": "code",
   "execution_count": 39,
   "metadata": {},
   "outputs": [
    {
     "data": {
      "text/plain": [
       "array(['Paddling', 'Standing', 'Surfing', ...,\n",
       "       'Swimming to shore after boat capsized by a squall',\n",
       "       'Fleeing across a river',\n",
       "       'Fishing for sharks when he became entangled in net & fell overboard'],\n",
       "      dtype=object)"
      ]
     },
     "metadata": {},
     "output_type": "display_data"
    }
   ],
   "source": [
    "valores_unicos = attacks['Activity'].unique()\n",
    "display (valores_unicos)"
   ]
  },
  {
   "cell_type": "code",
   "execution_count": 40,
   "metadata": {
    "scrolled": false
   },
   "outputs": [],
   "source": [
    "#empezamos a limpiar la columna Activity\n",
    "attacks['Activity'] = attacks['Activity'].str.replace(' when he became entangled in net & fell overboard', '')\n",
    "#dejamos en blanco las celdas donde haya numeros\n",
    "attacks['Activity'] = attacks['Activity'].apply(lambda x: '' if re.search(r'\\d', str(x)) else x)\n",
    "attacks['Activity'] = attacks['Activity'].str.replace('to shore after boat capsized by a squall', '')\n",
    "attacks['Activity'] = attacks['Activity'].str.replace('Fishing', '')\n",
    "attacks['Activity'] = attacks['Activity'].str.replace('in Alabama Deep  Rodeo', '')\n",
    "\n",
    "#display(attacks['Activity'])"
   ]
  },
  {
   "cell_type": "code",
   "execution_count": 41,
   "metadata": {},
   "outputs": [
    {
     "data": {
      "image/png": "[encoded data removed]",
      "text/plain": [
       "<Figure size 640x480 with 1 Axes>"
      ]
     },
     "metadata": {},
     "output_type": "display_data"
    }
   ],
   "source": [
    "import matplotlib.pyplot as plt\n",
    "attacks_2018 = attacks[attacks['Year'] == 2018]\n",
    "\n",
    "# Contar el número de ocurrencias de cada actividad\n",
    "top_activities = attacks_2018['Activity'].value_counts().head(5)\n",
    "explodes = [0.1, 0, 0, 0, 0]\n",
    "\n",
    "# Configurar el gráfico de tarta\n",
    "plt.pie(top_activities, labels=top_activities.index, autopct='%1.1f%%', explode=explodes, shadow=True)\n",
    "\n",
    "# Configurar título y etiqueta\n",
    "plt.title('Top 5 Activities with Shark Attacks (2018)')\n",
    "plt.xlabel('Activities')\n",
    "plt.show()"
   ]
  },
  {
   "cell_type": "code",
   "execution_count": 42,
   "metadata": {},
   "outputs": [],
   "source": [
    "attacks['Case Number.1'] = 'valor duplicado'\n",
    "attacks['Case Number.2'] = 'valor duplicado'\n",
    "#display(attacks['Case Number.1'])"
   ]
  },
  {
   "cell_type": "code",
   "execution_count": 43,
   "metadata": {},
   "outputs": [],
   "source": [
    "attacks.to_csv('attacksfinal.csv', index=False)"
   ]
  }
 ],
 "metadata": {
  "colab": {
   "authorship_tag": "ABX9TyPXtsEIvis77brt3Ar9+0xW",
   "include_colab_link": true,
   "provenance": []
  },
  "kernelspec": {
   "display_name": "base",
   "language": "python",
   "name": "base"
  },
  "language_info": {
   "codemirror_mode": {
    "name": "ipython",
    "version": 3
   },
   "file_extension": ".py",
   "mimetype": "text/x-python",
   "name": "python",
   "nbconvert_exporter": "python",
   "pygments_lexer": "ipython3",
   "version": "3.10.9"
  }
 },
 "nbformat": 4,
 "nbformat_minor": 1
}
